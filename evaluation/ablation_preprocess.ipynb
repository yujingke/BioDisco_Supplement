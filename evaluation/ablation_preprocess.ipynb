{
 "cells": [
  {
   "cell_type": "code",
   "execution_count": null,
   "id": "ef1b06d5",
   "metadata": {},
   "outputs": [],
   "source": [
    "# Data preprocessing and formatting script for ablation experiments.\n",
    "\n",
    "import json\n",
    "import re\n",
    "import os\n",
    "import numpy as np\n",
    "import pandas as pd\n",
    "import matplotlib.pyplot as plt\n",
    "import seaborn as sns\n",
    "from scipy.optimize import minimize"
   ]
  },
  {
   "cell_type": "code",
   "execution_count": null,
   "id": "37428273",
   "metadata": {},
   "outputs": [],
   "source": [
    "path = '../data/data_raw'"
   ]
  },
  {
   "cell_type": "code",
   "execution_count": null,
   "id": "2dbafa9b",
   "metadata": {},
   "outputs": [],
   "source": [
    "ablations = ['initsingle', 'initNoevi', 'initevi', 'fullNoevi', 'fullevi']\n",
    "ablations_names = ['Single LLM', 'Multi-agent', 'Multi+Refine', 'Multi+Tools', 'BioDisco']\n",
    "scores = ['novelty', 'relevance', 'significance', 'verifiability']"
   ]
  },
  {
   "cell_type": "code",
   "execution_count": null,
   "id": "32a095af",
   "metadata": {},
   "outputs": [],
   "source": [
    "win_matrix = {i: np.zeros((len(ablations), len(ablations))) for i in scores}\n",
    "tie_matrix = {i: np.zeros((len(ablations), len(ablations))) for i in scores}\n",
    "\n",
    "for i in range(len(ablations)):\n",
    "    for j in range(i, len(ablations)):\n",
    "        if i != j:\n",
    "            df = pd.read_csv(os.path.join(path, f'{ablations[i]}_{ablations[j]}.csv'), names=scores)\n",
    "            for _score in scores:\n",
    "                assert _score in df.columns, f\"Score '{_score}' not found in DataFrame columns.\"\n",
    "                win_matrix[_score][i, j] = (df[_score] == -1).sum()\n",
    "                win_matrix[_score][j, i] = (df[_score] == 1).sum()\n",
    "                tie_matrix[_score][i, j] = (df[_score] == 0).sum()\n",
    "                tie_matrix[_score][j, i] = (df[_score] == 0).sum()\n",
    "                assert win_matrix[_score][j, i] + win_matrix[_score][i, j] + tie_matrix[_score][i, j] == len(df)"
   ]
  },
  {
   "cell_type": "code",
   "execution_count": null,
   "id": "ee7fc28d",
   "metadata": {},
   "outputs": [],
   "source": [
    "win_matrix"
   ]
  },
  {
   "cell_type": "code",
   "execution_count": null,
   "id": "09e80fc5",
   "metadata": {},
   "outputs": [],
   "source": [
    "tie_matrix"
   ]
  },
  {
   "cell_type": "code",
   "execution_count": null,
   "id": "cf0281b5",
   "metadata": {},
   "outputs": [],
   "source": [
    "# Create a DataFrame to represent the results in the format P1, P2, P1_win, P2_win, Tie\n",
    "results = []\n",
    "for _score in scores:\n",
    "    for i in range(len(ablations)):\n",
    "        for j in range(i, len(ablations)):\n",
    "            if i != j:\n",
    "                results.append({\n",
    "                    'score': _score,\n",
    "                    'P1': ablations_names[i],\n",
    "                    'P2': ablations_names[j],\n",
    "                    'P1_win': int(win_matrix[_score][i, j]),\n",
    "                    'P2_win': int(win_matrix[_score][j, i]),\n",
    "                    'Tie': int(tie_matrix[_score][i, j])\n",
    "                })\n",
    "results_df = pd.DataFrame(results)"
   ]
  },
  {
   "cell_type": "code",
   "execution_count": null,
   "id": "adb7f9df",
   "metadata": {},
   "outputs": [],
   "source": [
    "results_df"
   ]
  },
  {
   "cell_type": "code",
   "execution_count": null,
   "id": "11e31a1a",
   "metadata": {},
   "outputs": [],
   "source": [
    "results_df.to_csv('results_for_BT.csv', index=False)"
   ]
  }
 ],
 "metadata": {
  "kernelspec": {
   "display_name": "python_3.12",
   "language": "python",
   "name": "python3"
  },
  "language_info": {
   "codemirror_mode": {
    "name": "ipython",
    "version": 3
   },
   "file_extension": ".py",
   "mimetype": "text/x-python",
   "name": "python",
   "nbconvert_exporter": "python",
   "pygments_lexer": "ipython3",
   "version": "3.11.5"
  }
 },
 "nbformat": 4,
 "nbformat_minor": 5
}
